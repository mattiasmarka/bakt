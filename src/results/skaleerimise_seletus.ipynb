{
 "cells": [
  {
   "cell_type": "code",
   "execution_count": 11,
   "id": "d5186362-9253-444b-ae90-7673d3d16927",
   "metadata": {},
   "outputs": [
    {
     "name": "stdout",
     "output_type": "stream",
     "text": [
      "E -> phase\n",
      "\tE = -7.8820000000\t--- energia\n",
      "\tE_l = -8.0000000000; E_h = 1.0000000000\t--- vahemik, millest energiat otsitakse\n",
      "\tt = 1 / (E_h - E_l) = 0.1111111111\t--- sklaeerimiskonstant, unitaarse argument\n",
      "\tu = -E * t = 0.8757777778\t--- faas koos mõõtmatu täisarvulise osaga\n",
      "\tphase = u % 1.0 = 0.8757777778\t--- faas\n",
      "phase -> E\n",
      "\tphase_l = E_l * t = -0.8888888889; phase_h = E_h * t = 0.1111111111\t--- vahemik, milles faas asub, kui täisarvuline osa poleks mõõtmatu\n",
      "\tx = -phase = -0.8757777778\t--- märgivahetus\n",
      "\ty = y - (x - phase_h + 1) // 1 = -0.8757777778\t--- faas koos täisarvulise osaga\n",
      "\tE_phase = y / t = -7.8820000000\t---- energia\n"
     ]
    }
   ],
   "source": [
    "print(\"E -> phase\")\n",
    "\n",
    "E = -7.882 # -7.8824034103243825 # muuda mind!\n",
    "print(\"\\tE = %.10f\\t--- energia\" % E)\n",
    "\n",
    "E_l, E_h = -8, 1 # muuda meid!\n",
    "print(\"\\tE_l = %.10f; E_h = %.10f\\t--- vahemik, millest energiat otsitakse\" % (E_l, E_h))\n",
    "\n",
    "t = 1 / (E_h - E_l)\n",
    "print(\"\\tt = 1 / (E_h - E_l) = %.10f\\t--- sklaeerimiskonstant, unitaarse argument\" % t)\n",
    "\n",
    "u = -E * t\n",
    "print(\"\\tu = -E * t = %.10f\\t--- faas koos mõõtmatu täisarvulise osaga\" % u)\n",
    "\n",
    "phase = u % 1.0\n",
    "print(\"\\tphase = u %% 1.0 = %.10f\\t--- faas\" % phase)\n",
    "\n",
    "print(\"phase -> E\")\n",
    "\n",
    "phase_l, phase_h = E_l * t, E_h * t\n",
    "print(\"\\tphase_l = E_l * t = %.10f; phase_h = E_h * t = %.10f\\t--- vahemik, milles faas asub, kui täisarvuline osa poleks mõõtmatu\" % (phase_l, phase_h))\n",
    "\n",
    "x = -phase\n",
    "print(\"\\tx = -phase = %.10f\\t--- märgivahetus\" % x)\n",
    "\n",
    "y = x - (x - phase_h + 1) // 1\n",
    "print(\"\\ty = y - (x - phase_h + 1) // 1 = %.10f\\t--- faas koos täisarvulise osaga\" % y)\n",
    "\n",
    "E_phase = y / t\n",
    "print(\"\\tE_phase = y / t = %.10f\\t---- energia\" % E_phase)"
   ]
  },
  {
   "cell_type": "code",
   "execution_count": 19,
   "id": "ea78b92d-aac3-4c75-84e9-dbbbf4a44e29",
   "metadata": {},
   "outputs": [
    {
     "data": {
      "image/png": "[encoded data removed]",
      "text/plain": [
       "<Figure size 800x600 with 1 Axes>"
      ]
     },
     "metadata": {},
     "output_type": "display_data"
    }
   ],
   "source": [
    "from matplotlib import pyplot\n",
    "from matplotlib import ticker\n",
    "\n",
    "def setup(ax):\n",
    "    ax.spines['right'].set_color('none')\n",
    "    ax.spines['left'].set_color('none')\n",
    "    ax.yaxis.set_major_locator(ticker.NullLocator())\n",
    "    ax.spines['top'].set_color('none')\n",
    "    ax.xaxis.set_ticks_position('bottom')\n",
    "    ax.tick_params(which='major', width=1.00)\n",
    "    ax.tick_params(which='major', length=5)\n",
    "    ax.tick_params(which='minor', width=0.75)\n",
    "    ax.tick_params(which='minor', length=2.5)\n",
    "    ax.set_xlim(-8, 8)\n",
    "    ax.set_ylim(0, 1)\n",
    "    ax.patch.set_alpha(0.0)\n",
    "\n",
    "pyplot.figure(figsize=(8, 6))\n",
    "n = 8\n",
    "\n",
    "ax = pyplot.subplot(n, 1, 1)\n",
    "setup(ax)\n",
    "ax.xaxis.set_major_locator(ticker.FixedLocator([-8, 0, 1]))"
   ]
  },
  {
   "cell_type": "code",
   "execution_count": null,
   "id": "f4ade7f5-f940-4271-8482-1c07aa28ab6c",
   "metadata": {},
   "outputs": [],
   "source": []
  },
  {
   "cell_type": "code",
   "execution_count": null,
   "id": "b11b8653-fc8a-4b4a-aaa9-8671d009259d",
   "metadata": {},
   "outputs": [],
   "source": []
  }
 ],
 "metadata": {
  "kernelspec": {
   "display_name": "Python 3 (ipykernel)",
   "language": "python",
   "name": "python3"
  },
  "language_info": {
   "codemirror_mode": {
    "name": "ipython",
    "version": 3
   },
   "file_extension": ".py",
   "mimetype": "text/x-python",
   "name": "python",
   "nbconvert_exporter": "python",
   "pygments_lexer": "ipython3",
   "version": "3.11.2"
  }
 },
 "nbformat": 4,
 "nbformat_minor": 5
}
